{
  "nbformat": 4,
  "nbformat_minor": 0,
  "metadata": {
    "colab": {
      "provenance": []
    },
    "kernelspec": {
      "name": "python3",
      "display_name": "Python 3"
    },
    "language_info": {
      "name": "python"
    }
  },
  "cells": [
    {
      "cell_type": "markdown",
      "source": [
        "# Liqi Challenge - Data Scientist & Engineer role - Leonardo Iania"
      ],
      "metadata": {
        "id": "Rs2uyQrahPhP"
      }
    },
    {
      "cell_type": "markdown",
      "source": [
        "Obiettivo: la società ABC ha richiesto un prestito a breve termine (<12 mesi).\n",
        "\n",
        "Dovremmo accettare? Qual è l'importo massimo che possiamo fornirgli?"
      ],
      "metadata": {
        "id": "KdiSjtxphVMj"
      }
    },
    {
      "cell_type": "markdown",
      "source": [
        "Per quanto riguarda i dati societari a disposizione, viene fornito l'ultimo financial statement (al 31/12 del 2021) e le transazioni effettuate nel 2022."
      ],
      "metadata": {
        "id": "H_3LHeLxh6DD"
      }
    },
    {
      "cell_type": "markdown",
      "source": [
        "## 1. Lettura dati e parsing del financial statement"
      ],
      "metadata": {
        "id": "bciktS2YiiWj"
      }
    },
    {
      "cell_type": "markdown",
      "source": [
        "Mentre la lettura delle transazioni è relativamente facile, in quanto è scaricabile in formato .csv, il financial statement è un XML che contiene il documento XBRL.\n",
        "\n",
        "Per leggere i dati contenuti in quest'ultimo ho utilizzato la libreria [Python XBRL](https://pypi.org/project/python-xbrl/)."
      ],
      "metadata": {
        "id": "p2RcGKBDioXl"
      }
    },
    {
      "cell_type": "code",
      "source": [
        "%%capture\n",
        "!pip install python-xbrl\n",
        "from xbrl import XBRLParser, GAAP, GAAPSerializer, DEISerializer\n",
        "import pandas as pd\n",
        "import seaborn as sns\n",
        "import warnings\n",
        "warnings.simplefilter(action='ignore', category=FutureWarning) #hide seaborn warnings"
      ],
      "metadata": {
        "id": "pbe4zk0b-7oc"
      },
      "execution_count": null,
      "outputs": []
    },
    {
      "cell_type": "code",
      "source": [
        "xbrl_parser = XBRLParser()\n",
        "xbrl = xbrl_parser.parse(open(\"bilancio_test (2).xml\"))"
      ],
      "metadata": {
        "id": "6cVzUxNGjqvj"
      },
      "execution_count": null,
      "outputs": []
    },
    {
      "cell_type": "code",
      "source": [
        "custom_obj = xbrl_parser.parseCustom(xbrl)"
      ],
      "metadata": {
        "id": "3eKWe-jijwEn"
      },
      "execution_count": null,
      "outputs": []
    },
    {
      "cell_type": "markdown",
      "source": [
        "Ora possiamo utilizzare un pandas dataframe per leggere tutte le voci e i relativi valori direttamente:"
      ],
      "metadata": {
        "id": "LvoM0Al0kXkA"
      }
    },
    {
      "cell_type": "code",
      "source": [
        "df = pd.DataFrame(custom_obj())\n",
        "df.head()"
      ],
      "metadata": {
        "colab": {
          "base_uri": "https://localhost:8080/",
          "height": 206
        },
        "id": "3js_c_fpkMxq",
        "outputId": "80ed658d-8fe1-481d-ce5e-77a979085640"
      },
      "execution_count": null,
      "outputs": [
        {
          "output_type": "execute_result",
          "data": {
            "text/plain": [
              "                                              0                  1\n",
              "0          patrimonionettoutileperditaesercizio  \\n    -94264\\n   \n",
              "1                         utileperditaesercizio  \\n    -94264\\n   \n",
              "2               differenzavalorecostiproduzione  \\n    -94264\\n   \n",
              "3                         risultatoprimaimposte  \\n    -94264\\n   \n",
              "4  totalecreditiversosociversamentiancoradovuti      \\n    33\\n   "
            ],
            "text/html": [
              "\n",
              "  <div id=\"df-373ab4d6-c9ba-4190-819e-a95912d17daa\">\n",
              "    <div class=\"colab-df-container\">\n",
              "      <div>\n",
              "<style scoped>\n",
              "    .dataframe tbody tr th:only-of-type {\n",
              "        vertical-align: middle;\n",
              "    }\n",
              "\n",
              "    .dataframe tbody tr th {\n",
              "        vertical-align: top;\n",
              "    }\n",
              "\n",
              "    .dataframe thead th {\n",
              "        text-align: right;\n",
              "    }\n",
              "</style>\n",
              "<table border=\"1\" class=\"dataframe\">\n",
              "  <thead>\n",
              "    <tr style=\"text-align: right;\">\n",
              "      <th></th>\n",
              "      <th>0</th>\n",
              "      <th>1</th>\n",
              "    </tr>\n",
              "  </thead>\n",
              "  <tbody>\n",
              "    <tr>\n",
              "      <th>0</th>\n",
              "      <td>patrimonionettoutileperditaesercizio</td>\n",
              "      <td>\\n    -94264\\n</td>\n",
              "    </tr>\n",
              "    <tr>\n",
              "      <th>1</th>\n",
              "      <td>utileperditaesercizio</td>\n",
              "      <td>\\n    -94264\\n</td>\n",
              "    </tr>\n",
              "    <tr>\n",
              "      <th>2</th>\n",
              "      <td>differenzavalorecostiproduzione</td>\n",
              "      <td>\\n    -94264\\n</td>\n",
              "    </tr>\n",
              "    <tr>\n",
              "      <th>3</th>\n",
              "      <td>risultatoprimaimposte</td>\n",
              "      <td>\\n    -94264\\n</td>\n",
              "    </tr>\n",
              "    <tr>\n",
              "      <th>4</th>\n",
              "      <td>totalecreditiversosociversamentiancoradovuti</td>\n",
              "      <td>\\n    33\\n</td>\n",
              "    </tr>\n",
              "  </tbody>\n",
              "</table>\n",
              "</div>\n",
              "      <button class=\"colab-df-convert\" onclick=\"convertToInteractive('df-373ab4d6-c9ba-4190-819e-a95912d17daa')\"\n",
              "              title=\"Convert this dataframe to an interactive table.\"\n",
              "              style=\"display:none;\">\n",
              "        \n",
              "  <svg xmlns=\"http://www.w3.org/2000/svg\" height=\"24px\"viewBox=\"0 0 24 24\"\n",
              "       width=\"24px\">\n",
              "    <path d=\"M0 0h24v24H0V0z\" fill=\"none\"/>\n",
              "    <path d=\"M18.56 5.44l.94 2.06.94-2.06 2.06-.94-2.06-.94-.94-2.06-.94 2.06-2.06.94zm-11 1L8.5 8.5l.94-2.06 2.06-.94-2.06-.94L8.5 2.5l-.94 2.06-2.06.94zm10 10l.94 2.06.94-2.06 2.06-.94-2.06-.94-.94-2.06-.94 2.06-2.06.94z\"/><path d=\"M17.41 7.96l-1.37-1.37c-.4-.4-.92-.59-1.43-.59-.52 0-1.04.2-1.43.59L10.3 9.45l-7.72 7.72c-.78.78-.78 2.05 0 2.83L4 21.41c.39.39.9.59 1.41.59.51 0 1.02-.2 1.41-.59l7.78-7.78 2.81-2.81c.8-.78.8-2.07 0-2.86zM5.41 20L4 18.59l7.72-7.72 1.47 1.35L5.41 20z\"/>\n",
              "  </svg>\n",
              "      </button>\n",
              "      \n",
              "  <style>\n",
              "    .colab-df-container {\n",
              "      display:flex;\n",
              "      flex-wrap:wrap;\n",
              "      gap: 12px;\n",
              "    }\n",
              "\n",
              "    .colab-df-convert {\n",
              "      background-color: #E8F0FE;\n",
              "      border: none;\n",
              "      border-radius: 50%;\n",
              "      cursor: pointer;\n",
              "      display: none;\n",
              "      fill: #1967D2;\n",
              "      height: 32px;\n",
              "      padding: 0 0 0 0;\n",
              "      width: 32px;\n",
              "    }\n",
              "\n",
              "    .colab-df-convert:hover {\n",
              "      background-color: #E2EBFA;\n",
              "      box-shadow: 0px 1px 2px rgba(60, 64, 67, 0.3), 0px 1px 3px 1px rgba(60, 64, 67, 0.15);\n",
              "      fill: #174EA6;\n",
              "    }\n",
              "\n",
              "    [theme=dark] .colab-df-convert {\n",
              "      background-color: #3B4455;\n",
              "      fill: #D2E3FC;\n",
              "    }\n",
              "\n",
              "    [theme=dark] .colab-df-convert:hover {\n",
              "      background-color: #434B5C;\n",
              "      box-shadow: 0px 1px 3px 1px rgba(0, 0, 0, 0.15);\n",
              "      filter: drop-shadow(0px 1px 2px rgba(0, 0, 0, 0.3));\n",
              "      fill: #FFFFFF;\n",
              "    }\n",
              "  </style>\n",
              "\n",
              "      <script>\n",
              "        const buttonEl =\n",
              "          document.querySelector('#df-373ab4d6-c9ba-4190-819e-a95912d17daa button.colab-df-convert');\n",
              "        buttonEl.style.display =\n",
              "          google.colab.kernel.accessAllowed ? 'block' : 'none';\n",
              "\n",
              "        async function convertToInteractive(key) {\n",
              "          const element = document.querySelector('#df-373ab4d6-c9ba-4190-819e-a95912d17daa');\n",
              "          const dataTable =\n",
              "            await google.colab.kernel.invokeFunction('convertToInteractive',\n",
              "                                                     [key], {});\n",
              "          if (!dataTable) return;\n",
              "\n",
              "          const docLinkHtml = 'Like what you see? Visit the ' +\n",
              "            '<a target=\"_blank\" href=https://colab.research.google.com/notebooks/data_table.ipynb>data table notebook</a>'\n",
              "            + ' to learn more about interactive tables.';\n",
              "          element.innerHTML = '';\n",
              "          dataTable['output_type'] = 'display_data';\n",
              "          await google.colab.output.renderOutput(dataTable, element);\n",
              "          const docLink = document.createElement('div');\n",
              "          docLink.innerHTML = docLinkHtml;\n",
              "          element.appendChild(docLink);\n",
              "        }\n",
              "      </script>\n",
              "    </div>\n",
              "  </div>\n",
              "  "
            ]
          },
          "metadata": {},
          "execution_count": 19
        }
      ]
    },
    {
      "cell_type": "markdown",
      "source": [
        "Mentre la colonna dei nomi, anche se senza spazi, è abbastanza chiara, quella dei valori è meno leggibile e sopratutto non mi permette di fare operazioni numeriche, quindi la trasformo:"
      ],
      "metadata": {
        "id": "7EWwf-bOks4c"
      }
    },
    {
      "cell_type": "code",
      "source": [
        "col_one = df.iloc[:,1].tolist()\n",
        "\n",
        "for i in range(len(col_one)):\n",
        "  col_one[i] = int(col_one[i])\n",
        "\n",
        "df.iloc[:,1] = col_one\n",
        "\n",
        "df.head()"
      ],
      "metadata": {
        "colab": {
          "base_uri": "https://localhost:8080/",
          "height": 206
        },
        "id": "47ITANdbk3iV",
        "outputId": "3008c51a-1b87-4763-df40-e3f828489a4c"
      },
      "execution_count": null,
      "outputs": [
        {
          "output_type": "execute_result",
          "data": {
            "text/plain": [
              "                                              0      1\n",
              "0          patrimonionettoutileperditaesercizio -94264\n",
              "1                         utileperditaesercizio -94264\n",
              "2               differenzavalorecostiproduzione -94264\n",
              "3                         risultatoprimaimposte -94264\n",
              "4  totalecreditiversosociversamentiancoradovuti     33"
            ],
            "text/html": [
              "\n",
              "  <div id=\"df-a0ac229e-b818-49b4-b556-3e2265e976dc\">\n",
              "    <div class=\"colab-df-container\">\n",
              "      <div>\n",
              "<style scoped>\n",
              "    .dataframe tbody tr th:only-of-type {\n",
              "        vertical-align: middle;\n",
              "    }\n",
              "\n",
              "    .dataframe tbody tr th {\n",
              "        vertical-align: top;\n",
              "    }\n",
              "\n",
              "    .dataframe thead th {\n",
              "        text-align: right;\n",
              "    }\n",
              "</style>\n",
              "<table border=\"1\" class=\"dataframe\">\n",
              "  <thead>\n",
              "    <tr style=\"text-align: right;\">\n",
              "      <th></th>\n",
              "      <th>0</th>\n",
              "      <th>1</th>\n",
              "    </tr>\n",
              "  </thead>\n",
              "  <tbody>\n",
              "    <tr>\n",
              "      <th>0</th>\n",
              "      <td>patrimonionettoutileperditaesercizio</td>\n",
              "      <td>-94264</td>\n",
              "    </tr>\n",
              "    <tr>\n",
              "      <th>1</th>\n",
              "      <td>utileperditaesercizio</td>\n",
              "      <td>-94264</td>\n",
              "    </tr>\n",
              "    <tr>\n",
              "      <th>2</th>\n",
              "      <td>differenzavalorecostiproduzione</td>\n",
              "      <td>-94264</td>\n",
              "    </tr>\n",
              "    <tr>\n",
              "      <th>3</th>\n",
              "      <td>risultatoprimaimposte</td>\n",
              "      <td>-94264</td>\n",
              "    </tr>\n",
              "    <tr>\n",
              "      <th>4</th>\n",
              "      <td>totalecreditiversosociversamentiancoradovuti</td>\n",
              "      <td>33</td>\n",
              "    </tr>\n",
              "  </tbody>\n",
              "</table>\n",
              "</div>\n",
              "      <button class=\"colab-df-convert\" onclick=\"convertToInteractive('df-a0ac229e-b818-49b4-b556-3e2265e976dc')\"\n",
              "              title=\"Convert this dataframe to an interactive table.\"\n",
              "              style=\"display:none;\">\n",
              "        \n",
              "  <svg xmlns=\"http://www.w3.org/2000/svg\" height=\"24px\"viewBox=\"0 0 24 24\"\n",
              "       width=\"24px\">\n",
              "    <path d=\"M0 0h24v24H0V0z\" fill=\"none\"/>\n",
              "    <path d=\"M18.56 5.44l.94 2.06.94-2.06 2.06-.94-2.06-.94-.94-2.06-.94 2.06-2.06.94zm-11 1L8.5 8.5l.94-2.06 2.06-.94-2.06-.94L8.5 2.5l-.94 2.06-2.06.94zm10 10l.94 2.06.94-2.06 2.06-.94-2.06-.94-.94-2.06-.94 2.06-2.06.94z\"/><path d=\"M17.41 7.96l-1.37-1.37c-.4-.4-.92-.59-1.43-.59-.52 0-1.04.2-1.43.59L10.3 9.45l-7.72 7.72c-.78.78-.78 2.05 0 2.83L4 21.41c.39.39.9.59 1.41.59.51 0 1.02-.2 1.41-.59l7.78-7.78 2.81-2.81c.8-.78.8-2.07 0-2.86zM5.41 20L4 18.59l7.72-7.72 1.47 1.35L5.41 20z\"/>\n",
              "  </svg>\n",
              "      </button>\n",
              "      \n",
              "  <style>\n",
              "    .colab-df-container {\n",
              "      display:flex;\n",
              "      flex-wrap:wrap;\n",
              "      gap: 12px;\n",
              "    }\n",
              "\n",
              "    .colab-df-convert {\n",
              "      background-color: #E8F0FE;\n",
              "      border: none;\n",
              "      border-radius: 50%;\n",
              "      cursor: pointer;\n",
              "      display: none;\n",
              "      fill: #1967D2;\n",
              "      height: 32px;\n",
              "      padding: 0 0 0 0;\n",
              "      width: 32px;\n",
              "    }\n",
              "\n",
              "    .colab-df-convert:hover {\n",
              "      background-color: #E2EBFA;\n",
              "      box-shadow: 0px 1px 2px rgba(60, 64, 67, 0.3), 0px 1px 3px 1px rgba(60, 64, 67, 0.15);\n",
              "      fill: #174EA6;\n",
              "    }\n",
              "\n",
              "    [theme=dark] .colab-df-convert {\n",
              "      background-color: #3B4455;\n",
              "      fill: #D2E3FC;\n",
              "    }\n",
              "\n",
              "    [theme=dark] .colab-df-convert:hover {\n",
              "      background-color: #434B5C;\n",
              "      box-shadow: 0px 1px 3px 1px rgba(0, 0, 0, 0.15);\n",
              "      filter: drop-shadow(0px 1px 2px rgba(0, 0, 0, 0.3));\n",
              "      fill: #FFFFFF;\n",
              "    }\n",
              "  </style>\n",
              "\n",
              "      <script>\n",
              "        const buttonEl =\n",
              "          document.querySelector('#df-a0ac229e-b818-49b4-b556-3e2265e976dc button.colab-df-convert');\n",
              "        buttonEl.style.display =\n",
              "          google.colab.kernel.accessAllowed ? 'block' : 'none';\n",
              "\n",
              "        async function convertToInteractive(key) {\n",
              "          const element = document.querySelector('#df-a0ac229e-b818-49b4-b556-3e2265e976dc');\n",
              "          const dataTable =\n",
              "            await google.colab.kernel.invokeFunction('convertToInteractive',\n",
              "                                                     [key], {});\n",
              "          if (!dataTable) return;\n",
              "\n",
              "          const docLinkHtml = 'Like what you see? Visit the ' +\n",
              "            '<a target=\"_blank\" href=https://colab.research.google.com/notebooks/data_table.ipynb>data table notebook</a>'\n",
              "            + ' to learn more about interactive tables.';\n",
              "          element.innerHTML = '';\n",
              "          dataTable['output_type'] = 'display_data';\n",
              "          await google.colab.output.renderOutput(dataTable, element);\n",
              "          const docLink = document.createElement('div');\n",
              "          docLink.innerHTML = docLinkHtml;\n",
              "          element.appendChild(docLink);\n",
              "        }\n",
              "      </script>\n",
              "    </div>\n",
              "  </div>\n",
              "  "
            ]
          },
          "metadata": {},
          "execution_count": 20
        }
      ]
    },
    {
      "cell_type": "markdown",
      "source": [
        "Ora andiamo a vedere nel dettaglio tutte le voci (78), che per comodità dividiamo in due metà:"
      ],
      "metadata": {
        "id": "kRT_Up1lluR7"
      }
    },
    {
      "cell_type": "code",
      "source": [
        "n=df.shape[0]\n",
        "print(df.iloc[0:int(n/2),:].to_string())"
      ],
      "metadata": {
        "colab": {
          "base_uri": "https://localhost:8080/"
        },
        "id": "lEjD44GElIyv",
        "outputId": "2ecf8dbf-2af3-45dc-9055-aff365806214"
      },
      "execution_count": null,
      "outputs": [
        {
          "output_type": "stream",
          "name": "stdout",
          "text": [
            "                                                                                               0         1\n",
            "0                                                           patrimonionettoutileperditaesercizio    -94264\n",
            "1                                                                          utileperditaesercizio    -94264\n",
            "2                                                                differenzavalorecostiproduzione    -94264\n",
            "3                                                                          risultatoprimaimposte    -94264\n",
            "4                                                   totalecreditiversosociversamentiancoradovuti        33\n",
            "5                                                                        patrimonionettocapitale       209\n",
            "6                                                       valoreproduzionealtriricaviproventialtri       260\n",
            "7                                                            costiproduzioneoneridiversigestione       939\n",
            "8                                                                            attivorateirisconti      1765\n",
            "9                                                                totaleimmobilizzazionimateriali      2765\n",
            "10                                                                               totalerimanenze      3000\n",
            "11                 valoreproduzionevariazionirimanenzeprodotticorsolavorazionesemilavoratifiniti      3000\n",
            "12  valoreproduzionevariazionirimanenzeprodotticorsolavorazionesemilavoratifinitilavoricorsoordi      3000\n",
            "13                                   valoreproduzionealtriricaviproventicontributicontoesercizio      4000\n",
            "14                                  valoreproduzionealtriricaviproventitotalealtriricaviproventi      4260\n",
            "15                            patrimonionettoaltreriservedistintamenteindicatetotalealtreriserve     50000\n",
            "16                                                                    totaledisponibilitaliquide     54891\n",
            "17                                                             totaleimmobilizzazioniimmateriali     74819\n",
            "18                                            costiproduzionematerieprimesussidiarieconsumomerci     75461\n",
            "19                                                                        totaleimmobilizzazioni     77584\n",
            "20                                                                         totalepatrimonionetto     85927\n",
            "21                                                                                 totalecrediti     87895\n",
            "22                                                      creditiesigibilientroeserciziosuccessivo     87895\n",
            "23                                                      valoreproduzionericavivenditeprestazioni    111055\n",
            "24                                                                        totalevaloreproduzione    118315\n",
            "25                                                      patrimonionettoriservasoprapprezzoazioni    129982\n",
            "26                                                                        costiproduzioneservizi    136179\n",
            "27                                                                                  totaledebiti    139241\n",
            "28                                                       debitiesigibilientroeserciziosuccessivo    139241\n",
            "29                                                                        totaleattivocircolante    145786\n",
            "30                                                                         totalecostiproduzione    212579\n",
            "31                                                                                  totaleattivo  22516800\n",
            "32                                                                                 totalepassivo    225168\n",
            "33                                                                      datianagraficipartitaiva         0\n",
            "34                                                                   datianagraficicodicefiscale         0\n",
            "35                                                                 datianagraficicapitalesociale       213\n",
            "36                                                                       datianagraficinumerorea         0\n",
            "37                                                                   amministratorianticipazioni         0\n"
          ]
        }
      ]
    },
    {
      "cell_type": "markdown",
      "source": [],
      "metadata": {
        "id": "dOMDupmSl4Xn"
      }
    },
    {
      "cell_type": "code",
      "source": [
        "print(df.iloc[int(n/2):,:].to_string())"
      ],
      "metadata": {
        "colab": {
          "base_uri": "https://localhost:8080/"
        },
        "id": "E_PYU4CKl4MZ",
        "outputId": "6b5e69a4-2f83-4b53-9dc2-5bdbeefcb0a3"
      },
      "execution_count": null,
      "outputs": [
        {
          "output_type": "stream",
          "name": "stdout",
          "text": [
            "                                                                                 0  1\n",
            "38                                                          amministratoricompensi  0\n",
            "39                                                           amministratoricrediti  0\n",
            "40                    amministratoriimpegniassuntilorocontoeffettogaranzieprestate  0\n",
            "41                                                            sindacianticipazioni  0\n",
            "42                                                                 sindacicompensi  0\n",
            "43                                                                  sindacicrediti  0\n",
            "44                           sindaciimpegniassuntilorocontoeffettogaranzieprestate  0\n",
            "45                                                                 garanzieimporto  0\n",
            "46                                                                   garanziereali  0\n",
            "47                                                impegniconfrontiimpresecollegate  0\n",
            "48                                             impegniconfrontiimpresecontrollanti  0\n",
            "49                                              impegniconfrontiimpresecontrollate  0\n",
            "50                          impegniconfrontiimpresesottopostecontrollocontrollanti  0\n",
            "51                                                                  impegniimporto  0\n",
            "52                                       impegnimateriatrattamentoquiescenzasimili  0\n",
            "53                                                      passivitapotenzialiimporto  0\n",
            "54                                                             azioniproprienumero  0\n",
            "55                                        azionipropriepartecapitalecorrispondente  0\n",
            "56                                                     azioniproprievalorenominale  0\n",
            "57                                            azioniquotesocietacontrollantinumero  0\n",
            "58                       azioniquotesocietacontrollantipartecapitalecorrispondente  0\n",
            "59                                    azioniquotesocietacontrollantivalorenominale  0\n",
            "60                                 acquisizionieserciziocorrispettivoazioniproprie  0\n",
            "61                acquisizionieserciziocorrispettivoazioniquotesocietacontrollanti  0\n",
            "62                                        acquisizioniesercizionumeroazioniproprie  0\n",
            "63                       acquisizioniesercizionumeroazioniquotesocietacontrollanti  0\n",
            "64                   acquisizionieserciziopartecapitalecorrispondenteazioniproprie  0\n",
            "65  acquisizionieserciziopartecapitalecorrispondenteazioniquotesocietacontrollanti  0\n",
            "66                                acquisizionieserciziovalorenominaleazioniproprie  0\n",
            "67               acquisizionieserciziovalorenominaleazioniquotesocietacontrollanti  0\n",
            "68                                  alienazionieserciziocorrispettivoazioniproprie  0\n",
            "69                 alienazionieserciziocorrispettivoazioniquotesocietacontrollanti  0\n",
            "70                                         alienazioniesercizionumeroazioniproprie  0\n",
            "71                        alienazioniesercizionumeroazioniquotesocietacontrollanti  0\n",
            "72                    alienazionieserciziopartecapitalecorrispondenteazioniproprie  0\n",
            "73   alienazionieserciziopartecapitalecorrispondenteazioniquotesocietacontrollanti  0\n",
            "74                                 alienazionieserciziovalorenominaleazioniproprie  0\n",
            "75                alienazionieserciziovalorenominaleazioniquotesocietacontrollanti  0\n"
          ]
        }
      ]
    },
    {
      "cell_type": "markdown",
      "source": [
        "Nella seconda parte, tutti i valori sono uguali a 0. Questi dati sono utili a capire che l'azienda ha una certa \"stabilità\" finanziaria e non è nè controllata nè controlla altre aziende da cui potrebbe essere influenzata.\n",
        "\n",
        "Dalla prima parte, invece, i dati rilevanti su cui è utile concentrarsi sono:\n",
        "\n",
        "* Risultato d'esercizio: l'azienda nel 2021 ha subito una perdita rilevante, concludendo l'anno con -94264. Da qui è importante vedere se l'azienda ha dei crediti che ancora devono essere riscossi e se, dalle transazioni 2022, continua ad essere in perdita e/o riesce a coprirla.\n",
        "* crediti esigibili entro il 2022: ammontano a 87895, quasi da soli potrebbero coprire la perdita del 2021. Questo è, ovviamente, un dato di cui tenere conto.\n",
        "* debiti: sono in totale 139241, tutti esigibili entro l'esercizio successivo. Ci sarà da valutare, nelle transazioni 2022, se l'azienda sarà in grado o meno di ripagarli.\n",
        "* Disponibilità liquide: sono 54891, ovviamente è un ottimo indicatore della possibilità di ripagare debiti e insieme ai crediti di cui sopra più 3000 di rimanenze vanno a costituire il totale dell'attivo circolante (145786).\n",
        "\n",
        "Andiamo più nel dettaglio:"
      ],
      "metadata": {
        "id": "8SAsK2AHmZ9y"
      }
    },
    {
      "cell_type": "markdown",
      "source": [
        "## Analisi financial statement"
      ],
      "metadata": {
        "id": "12__4_fwpKtB"
      }
    },
    {
      "cell_type": "markdown",
      "source": [
        "### Risultato d'esercizio:"
      ],
      "metadata": {
        "id": "Fw3QIO7jpX6r"
      }
    },
    {
      "cell_type": "markdown",
      "source": [
        "Oltre a notare la perdita in sè, è utile capire a quanto ammonta il valore della produzione rispetto ai costi:"
      ],
      "metadata": {
        "id": "AlotBprVpaUx"
      }
    },
    {
      "cell_type": "code",
      "source": [
        "df.set_index(1)\n",
        "\n",
        "print(df.index)"
      ],
      "metadata": {
        "colab": {
          "base_uri": "https://localhost:8080/"
        },
        "id": "qjz7_gv-qII6",
        "outputId": "d27a02dc-d990-4037-ce72-2112e26d7d85"
      },
      "execution_count": null,
      "outputs": [
        {
          "output_type": "stream",
          "name": "stdout",
          "text": [
            "RangeIndex(start=0, stop=76, step=1)\n"
          ]
        }
      ]
    },
    {
      "cell_type": "code",
      "source": [
        "df[df[0].str.contains('totalevaloreproduzione')]"
      ],
      "metadata": {
        "colab": {
          "base_uri": "https://localhost:8080/",
          "height": 81
        },
        "id": "4X91FrgUpgos",
        "outputId": "d82a919c-e99c-487d-e2a2-fb74e79ef6c8"
      },
      "execution_count": null,
      "outputs": [
        {
          "output_type": "execute_result",
          "data": {
            "text/plain": [
              "                         0       1\n",
              "24  totalevaloreproduzione  118315"
            ],
            "text/html": [
              "\n",
              "  <div id=\"df-10a53588-0941-4688-8a3e-c53b522b3b54\">\n",
              "    <div class=\"colab-df-container\">\n",
              "      <div>\n",
              "<style scoped>\n",
              "    .dataframe tbody tr th:only-of-type {\n",
              "        vertical-align: middle;\n",
              "    }\n",
              "\n",
              "    .dataframe tbody tr th {\n",
              "        vertical-align: top;\n",
              "    }\n",
              "\n",
              "    .dataframe thead th {\n",
              "        text-align: right;\n",
              "    }\n",
              "</style>\n",
              "<table border=\"1\" class=\"dataframe\">\n",
              "  <thead>\n",
              "    <tr style=\"text-align: right;\">\n",
              "      <th></th>\n",
              "      <th>0</th>\n",
              "      <th>1</th>\n",
              "    </tr>\n",
              "  </thead>\n",
              "  <tbody>\n",
              "    <tr>\n",
              "      <th>24</th>\n",
              "      <td>totalevaloreproduzione</td>\n",
              "      <td>118315</td>\n",
              "    </tr>\n",
              "  </tbody>\n",
              "</table>\n",
              "</div>\n",
              "      <button class=\"colab-df-convert\" onclick=\"convertToInteractive('df-10a53588-0941-4688-8a3e-c53b522b3b54')\"\n",
              "              title=\"Convert this dataframe to an interactive table.\"\n",
              "              style=\"display:none;\">\n",
              "        \n",
              "  <svg xmlns=\"http://www.w3.org/2000/svg\" height=\"24px\"viewBox=\"0 0 24 24\"\n",
              "       width=\"24px\">\n",
              "    <path d=\"M0 0h24v24H0V0z\" fill=\"none\"/>\n",
              "    <path d=\"M18.56 5.44l.94 2.06.94-2.06 2.06-.94-2.06-.94-.94-2.06-.94 2.06-2.06.94zm-11 1L8.5 8.5l.94-2.06 2.06-.94-2.06-.94L8.5 2.5l-.94 2.06-2.06.94zm10 10l.94 2.06.94-2.06 2.06-.94-2.06-.94-.94-2.06-.94 2.06-2.06.94z\"/><path d=\"M17.41 7.96l-1.37-1.37c-.4-.4-.92-.59-1.43-.59-.52 0-1.04.2-1.43.59L10.3 9.45l-7.72 7.72c-.78.78-.78 2.05 0 2.83L4 21.41c.39.39.9.59 1.41.59.51 0 1.02-.2 1.41-.59l7.78-7.78 2.81-2.81c.8-.78.8-2.07 0-2.86zM5.41 20L4 18.59l7.72-7.72 1.47 1.35L5.41 20z\"/>\n",
              "  </svg>\n",
              "      </button>\n",
              "      \n",
              "  <style>\n",
              "    .colab-df-container {\n",
              "      display:flex;\n",
              "      flex-wrap:wrap;\n",
              "      gap: 12px;\n",
              "    }\n",
              "\n",
              "    .colab-df-convert {\n",
              "      background-color: #E8F0FE;\n",
              "      border: none;\n",
              "      border-radius: 50%;\n",
              "      cursor: pointer;\n",
              "      display: none;\n",
              "      fill: #1967D2;\n",
              "      height: 32px;\n",
              "      padding: 0 0 0 0;\n",
              "      width: 32px;\n",
              "    }\n",
              "\n",
              "    .colab-df-convert:hover {\n",
              "      background-color: #E2EBFA;\n",
              "      box-shadow: 0px 1px 2px rgba(60, 64, 67, 0.3), 0px 1px 3px 1px rgba(60, 64, 67, 0.15);\n",
              "      fill: #174EA6;\n",
              "    }\n",
              "\n",
              "    [theme=dark] .colab-df-convert {\n",
              "      background-color: #3B4455;\n",
              "      fill: #D2E3FC;\n",
              "    }\n",
              "\n",
              "    [theme=dark] .colab-df-convert:hover {\n",
              "      background-color: #434B5C;\n",
              "      box-shadow: 0px 1px 3px 1px rgba(0, 0, 0, 0.15);\n",
              "      filter: drop-shadow(0px 1px 2px rgba(0, 0, 0, 0.3));\n",
              "      fill: #FFFFFF;\n",
              "    }\n",
              "  </style>\n",
              "\n",
              "      <script>\n",
              "        const buttonEl =\n",
              "          document.querySelector('#df-10a53588-0941-4688-8a3e-c53b522b3b54 button.colab-df-convert');\n",
              "        buttonEl.style.display =\n",
              "          google.colab.kernel.accessAllowed ? 'block' : 'none';\n",
              "\n",
              "        async function convertToInteractive(key) {\n",
              "          const element = document.querySelector('#df-10a53588-0941-4688-8a3e-c53b522b3b54');\n",
              "          const dataTable =\n",
              "            await google.colab.kernel.invokeFunction('convertToInteractive',\n",
              "                                                     [key], {});\n",
              "          if (!dataTable) return;\n",
              "\n",
              "          const docLinkHtml = 'Like what you see? Visit the ' +\n",
              "            '<a target=\"_blank\" href=https://colab.research.google.com/notebooks/data_table.ipynb>data table notebook</a>'\n",
              "            + ' to learn more about interactive tables.';\n",
              "          element.innerHTML = '';\n",
              "          dataTable['output_type'] = 'display_data';\n",
              "          await google.colab.output.renderOutput(dataTable, element);\n",
              "          const docLink = document.createElement('div');\n",
              "          docLink.innerHTML = docLinkHtml;\n",
              "          element.appendChild(docLink);\n",
              "        }\n",
              "      </script>\n",
              "    </div>\n",
              "  </div>\n",
              "  "
            ]
          },
          "metadata": {},
          "execution_count": 24
        }
      ]
    },
    {
      "cell_type": "code",
      "source": [
        "df[df[0].str.contains('totalecostiproduzione')]"
      ],
      "metadata": {
        "colab": {
          "base_uri": "https://localhost:8080/",
          "height": 81
        },
        "id": "OQ3xa-2Eq8JR",
        "outputId": "79707710-fffa-4173-aa5a-96c820f957a6"
      },
      "execution_count": null,
      "outputs": [
        {
          "output_type": "execute_result",
          "data": {
            "text/plain": [
              "                        0       1\n",
              "30  totalecostiproduzione  212579"
            ],
            "text/html": [
              "\n",
              "  <div id=\"df-18285e02-1f6e-4389-ba9a-d91a5b0b7cd7\">\n",
              "    <div class=\"colab-df-container\">\n",
              "      <div>\n",
              "<style scoped>\n",
              "    .dataframe tbody tr th:only-of-type {\n",
              "        vertical-align: middle;\n",
              "    }\n",
              "\n",
              "    .dataframe tbody tr th {\n",
              "        vertical-align: top;\n",
              "    }\n",
              "\n",
              "    .dataframe thead th {\n",
              "        text-align: right;\n",
              "    }\n",
              "</style>\n",
              "<table border=\"1\" class=\"dataframe\">\n",
              "  <thead>\n",
              "    <tr style=\"text-align: right;\">\n",
              "      <th></th>\n",
              "      <th>0</th>\n",
              "      <th>1</th>\n",
              "    </tr>\n",
              "  </thead>\n",
              "  <tbody>\n",
              "    <tr>\n",
              "      <th>30</th>\n",
              "      <td>totalecostiproduzione</td>\n",
              "      <td>212579</td>\n",
              "    </tr>\n",
              "  </tbody>\n",
              "</table>\n",
              "</div>\n",
              "      <button class=\"colab-df-convert\" onclick=\"convertToInteractive('df-18285e02-1f6e-4389-ba9a-d91a5b0b7cd7')\"\n",
              "              title=\"Convert this dataframe to an interactive table.\"\n",
              "              style=\"display:none;\">\n",
              "        \n",
              "  <svg xmlns=\"http://www.w3.org/2000/svg\" height=\"24px\"viewBox=\"0 0 24 24\"\n",
              "       width=\"24px\">\n",
              "    <path d=\"M0 0h24v24H0V0z\" fill=\"none\"/>\n",
              "    <path d=\"M18.56 5.44l.94 2.06.94-2.06 2.06-.94-2.06-.94-.94-2.06-.94 2.06-2.06.94zm-11 1L8.5 8.5l.94-2.06 2.06-.94-2.06-.94L8.5 2.5l-.94 2.06-2.06.94zm10 10l.94 2.06.94-2.06 2.06-.94-2.06-.94-.94-2.06-.94 2.06-2.06.94z\"/><path d=\"M17.41 7.96l-1.37-1.37c-.4-.4-.92-.59-1.43-.59-.52 0-1.04.2-1.43.59L10.3 9.45l-7.72 7.72c-.78.78-.78 2.05 0 2.83L4 21.41c.39.39.9.59 1.41.59.51 0 1.02-.2 1.41-.59l7.78-7.78 2.81-2.81c.8-.78.8-2.07 0-2.86zM5.41 20L4 18.59l7.72-7.72 1.47 1.35L5.41 20z\"/>\n",
              "  </svg>\n",
              "      </button>\n",
              "      \n",
              "  <style>\n",
              "    .colab-df-container {\n",
              "      display:flex;\n",
              "      flex-wrap:wrap;\n",
              "      gap: 12px;\n",
              "    }\n",
              "\n",
              "    .colab-df-convert {\n",
              "      background-color: #E8F0FE;\n",
              "      border: none;\n",
              "      border-radius: 50%;\n",
              "      cursor: pointer;\n",
              "      display: none;\n",
              "      fill: #1967D2;\n",
              "      height: 32px;\n",
              "      padding: 0 0 0 0;\n",
              "      width: 32px;\n",
              "    }\n",
              "\n",
              "    .colab-df-convert:hover {\n",
              "      background-color: #E2EBFA;\n",
              "      box-shadow: 0px 1px 2px rgba(60, 64, 67, 0.3), 0px 1px 3px 1px rgba(60, 64, 67, 0.15);\n",
              "      fill: #174EA6;\n",
              "    }\n",
              "\n",
              "    [theme=dark] .colab-df-convert {\n",
              "      background-color: #3B4455;\n",
              "      fill: #D2E3FC;\n",
              "    }\n",
              "\n",
              "    [theme=dark] .colab-df-convert:hover {\n",
              "      background-color: #434B5C;\n",
              "      box-shadow: 0px 1px 3px 1px rgba(0, 0, 0, 0.15);\n",
              "      filter: drop-shadow(0px 1px 2px rgba(0, 0, 0, 0.3));\n",
              "      fill: #FFFFFF;\n",
              "    }\n",
              "  </style>\n",
              "\n",
              "      <script>\n",
              "        const buttonEl =\n",
              "          document.querySelector('#df-18285e02-1f6e-4389-ba9a-d91a5b0b7cd7 button.colab-df-convert');\n",
              "        buttonEl.style.display =\n",
              "          google.colab.kernel.accessAllowed ? 'block' : 'none';\n",
              "\n",
              "        async function convertToInteractive(key) {\n",
              "          const element = document.querySelector('#df-18285e02-1f6e-4389-ba9a-d91a5b0b7cd7');\n",
              "          const dataTable =\n",
              "            await google.colab.kernel.invokeFunction('convertToInteractive',\n",
              "                                                     [key], {});\n",
              "          if (!dataTable) return;\n",
              "\n",
              "          const docLinkHtml = 'Like what you see? Visit the ' +\n",
              "            '<a target=\"_blank\" href=https://colab.research.google.com/notebooks/data_table.ipynb>data table notebook</a>'\n",
              "            + ' to learn more about interactive tables.';\n",
              "          element.innerHTML = '';\n",
              "          dataTable['output_type'] = 'display_data';\n",
              "          await google.colab.output.renderOutput(dataTable, element);\n",
              "          const docLink = document.createElement('div');\n",
              "          docLink.innerHTML = docLinkHtml;\n",
              "          element.appendChild(docLink);\n",
              "        }\n",
              "      </script>\n",
              "    </div>\n",
              "  </div>\n",
              "  "
            ]
          },
          "metadata": {},
          "execution_count": 25
        }
      ]
    },
    {
      "cell_type": "markdown",
      "source": [
        "Come sono composti? Nel dettaglio:"
      ],
      "metadata": {
        "id": "8Rb2pbtFrHRL"
      }
    },
    {
      "cell_type": "code",
      "source": [
        "df[df[0].str.contains('valoreproduzione')]"
      ],
      "metadata": {
        "colab": {
          "base_uri": "https://localhost:8080/",
          "height": 269
        },
        "id": "OLmHsTIPrQ_A",
        "outputId": "c4da318b-e66c-4f0f-84c0-edd3de85bad7"
      },
      "execution_count": null,
      "outputs": [
        {
          "output_type": "execute_result",
          "data": {
            "text/plain": [
              "                                                    0       1\n",
              "6            valoreproduzionealtriricaviproventialtri     260\n",
              "11  valoreproduzionevariazionirimanenzeprodotticor...    3000\n",
              "12  valoreproduzionevariazionirimanenzeprodotticor...    3000\n",
              "13  valoreproduzionealtriricaviproventicontributic...    4000\n",
              "14  valoreproduzionealtriricaviproventitotalealtri...    4260\n",
              "23           valoreproduzionericavivenditeprestazioni  111055\n",
              "24                             totalevaloreproduzione  118315"
            ],
            "text/html": [
              "\n",
              "  <div id=\"df-e297e9e6-446e-4a47-9f52-71498ddd1f97\">\n",
              "    <div class=\"colab-df-container\">\n",
              "      <div>\n",
              "<style scoped>\n",
              "    .dataframe tbody tr th:only-of-type {\n",
              "        vertical-align: middle;\n",
              "    }\n",
              "\n",
              "    .dataframe tbody tr th {\n",
              "        vertical-align: top;\n",
              "    }\n",
              "\n",
              "    .dataframe thead th {\n",
              "        text-align: right;\n",
              "    }\n",
              "</style>\n",
              "<table border=\"1\" class=\"dataframe\">\n",
              "  <thead>\n",
              "    <tr style=\"text-align: right;\">\n",
              "      <th></th>\n",
              "      <th>0</th>\n",
              "      <th>1</th>\n",
              "    </tr>\n",
              "  </thead>\n",
              "  <tbody>\n",
              "    <tr>\n",
              "      <th>6</th>\n",
              "      <td>valoreproduzionealtriricaviproventialtri</td>\n",
              "      <td>260</td>\n",
              "    </tr>\n",
              "    <tr>\n",
              "      <th>11</th>\n",
              "      <td>valoreproduzionevariazionirimanenzeprodotticor...</td>\n",
              "      <td>3000</td>\n",
              "    </tr>\n",
              "    <tr>\n",
              "      <th>12</th>\n",
              "      <td>valoreproduzionevariazionirimanenzeprodotticor...</td>\n",
              "      <td>3000</td>\n",
              "    </tr>\n",
              "    <tr>\n",
              "      <th>13</th>\n",
              "      <td>valoreproduzionealtriricaviproventicontributic...</td>\n",
              "      <td>4000</td>\n",
              "    </tr>\n",
              "    <tr>\n",
              "      <th>14</th>\n",
              "      <td>valoreproduzionealtriricaviproventitotalealtri...</td>\n",
              "      <td>4260</td>\n",
              "    </tr>\n",
              "    <tr>\n",
              "      <th>23</th>\n",
              "      <td>valoreproduzionericavivenditeprestazioni</td>\n",
              "      <td>111055</td>\n",
              "    </tr>\n",
              "    <tr>\n",
              "      <th>24</th>\n",
              "      <td>totalevaloreproduzione</td>\n",
              "      <td>118315</td>\n",
              "    </tr>\n",
              "  </tbody>\n",
              "</table>\n",
              "</div>\n",
              "      <button class=\"colab-df-convert\" onclick=\"convertToInteractive('df-e297e9e6-446e-4a47-9f52-71498ddd1f97')\"\n",
              "              title=\"Convert this dataframe to an interactive table.\"\n",
              "              style=\"display:none;\">\n",
              "        \n",
              "  <svg xmlns=\"http://www.w3.org/2000/svg\" height=\"24px\"viewBox=\"0 0 24 24\"\n",
              "       width=\"24px\">\n",
              "    <path d=\"M0 0h24v24H0V0z\" fill=\"none\"/>\n",
              "    <path d=\"M18.56 5.44l.94 2.06.94-2.06 2.06-.94-2.06-.94-.94-2.06-.94 2.06-2.06.94zm-11 1L8.5 8.5l.94-2.06 2.06-.94-2.06-.94L8.5 2.5l-.94 2.06-2.06.94zm10 10l.94 2.06.94-2.06 2.06-.94-2.06-.94-.94-2.06-.94 2.06-2.06.94z\"/><path d=\"M17.41 7.96l-1.37-1.37c-.4-.4-.92-.59-1.43-.59-.52 0-1.04.2-1.43.59L10.3 9.45l-7.72 7.72c-.78.78-.78 2.05 0 2.83L4 21.41c.39.39.9.59 1.41.59.51 0 1.02-.2 1.41-.59l7.78-7.78 2.81-2.81c.8-.78.8-2.07 0-2.86zM5.41 20L4 18.59l7.72-7.72 1.47 1.35L5.41 20z\"/>\n",
              "  </svg>\n",
              "      </button>\n",
              "      \n",
              "  <style>\n",
              "    .colab-df-container {\n",
              "      display:flex;\n",
              "      flex-wrap:wrap;\n",
              "      gap: 12px;\n",
              "    }\n",
              "\n",
              "    .colab-df-convert {\n",
              "      background-color: #E8F0FE;\n",
              "      border: none;\n",
              "      border-radius: 50%;\n",
              "      cursor: pointer;\n",
              "      display: none;\n",
              "      fill: #1967D2;\n",
              "      height: 32px;\n",
              "      padding: 0 0 0 0;\n",
              "      width: 32px;\n",
              "    }\n",
              "\n",
              "    .colab-df-convert:hover {\n",
              "      background-color: #E2EBFA;\n",
              "      box-shadow: 0px 1px 2px rgba(60, 64, 67, 0.3), 0px 1px 3px 1px rgba(60, 64, 67, 0.15);\n",
              "      fill: #174EA6;\n",
              "    }\n",
              "\n",
              "    [theme=dark] .colab-df-convert {\n",
              "      background-color: #3B4455;\n",
              "      fill: #D2E3FC;\n",
              "    }\n",
              "\n",
              "    [theme=dark] .colab-df-convert:hover {\n",
              "      background-color: #434B5C;\n",
              "      box-shadow: 0px 1px 3px 1px rgba(0, 0, 0, 0.15);\n",
              "      filter: drop-shadow(0px 1px 2px rgba(0, 0, 0, 0.3));\n",
              "      fill: #FFFFFF;\n",
              "    }\n",
              "  </style>\n",
              "\n",
              "      <script>\n",
              "        const buttonEl =\n",
              "          document.querySelector('#df-e297e9e6-446e-4a47-9f52-71498ddd1f97 button.colab-df-convert');\n",
              "        buttonEl.style.display =\n",
              "          google.colab.kernel.accessAllowed ? 'block' : 'none';\n",
              "\n",
              "        async function convertToInteractive(key) {\n",
              "          const element = document.querySelector('#df-e297e9e6-446e-4a47-9f52-71498ddd1f97');\n",
              "          const dataTable =\n",
              "            await google.colab.kernel.invokeFunction('convertToInteractive',\n",
              "                                                     [key], {});\n",
              "          if (!dataTable) return;\n",
              "\n",
              "          const docLinkHtml = 'Like what you see? Visit the ' +\n",
              "            '<a target=\"_blank\" href=https://colab.research.google.com/notebooks/data_table.ipynb>data table notebook</a>'\n",
              "            + ' to learn more about interactive tables.';\n",
              "          element.innerHTML = '';\n",
              "          dataTable['output_type'] = 'display_data';\n",
              "          await google.colab.output.renderOutput(dataTable, element);\n",
              "          const docLink = document.createElement('div');\n",
              "          docLink.innerHTML = docLinkHtml;\n",
              "          element.appendChild(docLink);\n",
              "        }\n",
              "      </script>\n",
              "    </div>\n",
              "  </div>\n",
              "  "
            ]
          },
          "metadata": {},
          "execution_count": 26
        }
      ]
    },
    {
      "cell_type": "markdown",
      "source": [
        "Per essere precisi, nel sub-dataframe di sopra sono inclusi i lavori in corso su ordinazione e il totale degli \"altri ricavi\" che sono presenti anche singolarmente, escludendo queste due voci possiamo vedere la composizione dei ricavi:"
      ],
      "metadata": {
        "id": "C8gN_a2Erre0"
      }
    },
    {
      "cell_type": "code",
      "source": [
        "idx = [6,11,13,23] #indici voci da analizzare\n",
        "valpro = df[df[0].str.contains('valoreproduzione')][0][idx]\n",
        "ax = sns.barplot(valpro, \n",
        "                 y = df[df[0].str.contains('valoreproduzione')][1][idx],\n",
        "                 x = df[df[0].str.contains('valoreproduzione')][0][idx])\n",
        "ax.tick_params(axis='x', rotation=45)\n",
        "ax.set_xticklabels(['Proventi altri','Variazioni rimanenze','Contributi in conto esercizio', 'Ricavi vendite e prestazioni']);\n",
        "ax.set(xlabel='', ylabel='');"
      ],
      "metadata": {
        "colab": {
          "base_uri": "https://localhost:8080/",
          "height": 361
        },
        "id": "lv0H1VzVsr5A",
        "outputId": "a5981d3e-4aa1-41be-b5d4-60cda1512f86"
      },
      "execution_count": null,
      "outputs": [
        {
          "output_type": "display_data",
          "data": {
            "text/plain": [
              "<Figure size 432x288 with 1 Axes>"
            ],
            "image/png": "[encoded data removed]"
          },
          "metadata": {
            "needs_background": "light"
          }
        }
      ]
    },
    {
      "cell_type": "markdown",
      "source": [
        "Come prevedibile, quasi tutti i ricavi vengono dalle vendite."
      ],
      "metadata": {
        "id": "l_PBdQML-DK1"
      }
    },
    {
      "cell_type": "code",
      "source": [
        "df[df[0].str.contains('costiproduzione')]"
      ],
      "metadata": {
        "colab": {
          "base_uri": "https://localhost:8080/",
          "height": 206
        },
        "id": "07YEGAcyrN1O",
        "outputId": "f2caa019-750b-4568-b875-214b8fa330c8"
      },
      "execution_count": null,
      "outputs": [
        {
          "output_type": "execute_result",
          "data": {
            "text/plain": [
              "                                                    0       1\n",
              "2                     differenzavalorecostiproduzione  -94264\n",
              "7                 costiproduzioneoneridiversigestione     939\n",
              "18  costiproduzionematerieprimesussidiarieconsumom...   75461\n",
              "26                             costiproduzioneservizi  136179\n",
              "30                              totalecostiproduzione  212579"
            ],
            "text/html": [
              "\n",
              "  <div id=\"df-3da02fc0-988a-4702-bb20-6388eb85ef51\">\n",
              "    <div class=\"colab-df-container\">\n",
              "      <div>\n",
              "<style scoped>\n",
              "    .dataframe tbody tr th:only-of-type {\n",
              "        vertical-align: middle;\n",
              "    }\n",
              "\n",
              "    .dataframe tbody tr th {\n",
              "        vertical-align: top;\n",
              "    }\n",
              "\n",
              "    .dataframe thead th {\n",
              "        text-align: right;\n",
              "    }\n",
              "</style>\n",
              "<table border=\"1\" class=\"dataframe\">\n",
              "  <thead>\n",
              "    <tr style=\"text-align: right;\">\n",
              "      <th></th>\n",
              "      <th>0</th>\n",
              "      <th>1</th>\n",
              "    </tr>\n",
              "  </thead>\n",
              "  <tbody>\n",
              "    <tr>\n",
              "      <th>2</th>\n",
              "      <td>differenzavalorecostiproduzione</td>\n",
              "      <td>-94264</td>\n",
              "    </tr>\n",
              "    <tr>\n",
              "      <th>7</th>\n",
              "      <td>costiproduzioneoneridiversigestione</td>\n",
              "      <td>939</td>\n",
              "    </tr>\n",
              "    <tr>\n",
              "      <th>18</th>\n",
              "      <td>costiproduzionematerieprimesussidiarieconsumom...</td>\n",
              "      <td>75461</td>\n",
              "    </tr>\n",
              "    <tr>\n",
              "      <th>26</th>\n",
              "      <td>costiproduzioneservizi</td>\n",
              "      <td>136179</td>\n",
              "    </tr>\n",
              "    <tr>\n",
              "      <th>30</th>\n",
              "      <td>totalecostiproduzione</td>\n",
              "      <td>212579</td>\n",
              "    </tr>\n",
              "  </tbody>\n",
              "</table>\n",
              "</div>\n",
              "      <button class=\"colab-df-convert\" onclick=\"convertToInteractive('df-3da02fc0-988a-4702-bb20-6388eb85ef51')\"\n",
              "              title=\"Convert this dataframe to an interactive table.\"\n",
              "              style=\"display:none;\">\n",
              "        \n",
              "  <svg xmlns=\"http://www.w3.org/2000/svg\" height=\"24px\"viewBox=\"0 0 24 24\"\n",
              "       width=\"24px\">\n",
              "    <path d=\"M0 0h24v24H0V0z\" fill=\"none\"/>\n",
              "    <path d=\"M18.56 5.44l.94 2.06.94-2.06 2.06-.94-2.06-.94-.94-2.06-.94 2.06-2.06.94zm-11 1L8.5 8.5l.94-2.06 2.06-.94-2.06-.94L8.5 2.5l-.94 2.06-2.06.94zm10 10l.94 2.06.94-2.06 2.06-.94-2.06-.94-.94-2.06-.94 2.06-2.06.94z\"/><path d=\"M17.41 7.96l-1.37-1.37c-.4-.4-.92-.59-1.43-.59-.52 0-1.04.2-1.43.59L10.3 9.45l-7.72 7.72c-.78.78-.78 2.05 0 2.83L4 21.41c.39.39.9.59 1.41.59.51 0 1.02-.2 1.41-.59l7.78-7.78 2.81-2.81c.8-.78.8-2.07 0-2.86zM5.41 20L4 18.59l7.72-7.72 1.47 1.35L5.41 20z\"/>\n",
              "  </svg>\n",
              "      </button>\n",
              "      \n",
              "  <style>\n",
              "    .colab-df-container {\n",
              "      display:flex;\n",
              "      flex-wrap:wrap;\n",
              "      gap: 12px;\n",
              "    }\n",
              "\n",
              "    .colab-df-convert {\n",
              "      background-color: #E8F0FE;\n",
              "      border: none;\n",
              "      border-radius: 50%;\n",
              "      cursor: pointer;\n",
              "      display: none;\n",
              "      fill: #1967D2;\n",
              "      height: 32px;\n",
              "      padding: 0 0 0 0;\n",
              "      width: 32px;\n",
              "    }\n",
              "\n",
              "    .colab-df-convert:hover {\n",
              "      background-color: #E2EBFA;\n",
              "      box-shadow: 0px 1px 2px rgba(60, 64, 67, 0.3), 0px 1px 3px 1px rgba(60, 64, 67, 0.15);\n",
              "      fill: #174EA6;\n",
              "    }\n",
              "\n",
              "    [theme=dark] .colab-df-convert {\n",
              "      background-color: #3B4455;\n",
              "      fill: #D2E3FC;\n",
              "    }\n",
              "\n",
              "    [theme=dark] .colab-df-convert:hover {\n",
              "      background-color: #434B5C;\n",
              "      box-shadow: 0px 1px 3px 1px rgba(0, 0, 0, 0.15);\n",
              "      filter: drop-shadow(0px 1px 2px rgba(0, 0, 0, 0.3));\n",
              "      fill: #FFFFFF;\n",
              "    }\n",
              "  </style>\n",
              "\n",
              "      <script>\n",
              "        const buttonEl =\n",
              "          document.querySelector('#df-3da02fc0-988a-4702-bb20-6388eb85ef51 button.colab-df-convert');\n",
              "        buttonEl.style.display =\n",
              "          google.colab.kernel.accessAllowed ? 'block' : 'none';\n",
              "\n",
              "        async function convertToInteractive(key) {\n",
              "          const element = document.querySelector('#df-3da02fc0-988a-4702-bb20-6388eb85ef51');\n",
              "          const dataTable =\n",
              "            await google.colab.kernel.invokeFunction('convertToInteractive',\n",
              "                                                     [key], {});\n",
              "          if (!dataTable) return;\n",
              "\n",
              "          const docLinkHtml = 'Like what you see? Visit the ' +\n",
              "            '<a target=\"_blank\" href=https://colab.research.google.com/notebooks/data_table.ipynb>data table notebook</a>'\n",
              "            + ' to learn more about interactive tables.';\n",
              "          element.innerHTML = '';\n",
              "          dataTable['output_type'] = 'display_data';\n",
              "          await google.colab.output.renderOutput(dataTable, element);\n",
              "          const docLink = document.createElement('div');\n",
              "          docLink.innerHTML = docLinkHtml;\n",
              "          element.appendChild(docLink);\n",
              "        }\n",
              "      </script>\n",
              "    </div>\n",
              "  </div>\n",
              "  "
            ]
          },
          "metadata": {},
          "execution_count": 28
        }
      ]
    },
    {
      "cell_type": "code",
      "source": [
        "idx = [7,18,26] #indici voci da analizzare\n",
        "costpro = df[df[0].str.contains('costiproduzione')][0][idx]\n",
        "ax = sns.barplot(costpro, \n",
        "                 y = df[df[0].str.contains('costiproduzione')][1][idx],\n",
        "                 x = df[df[0].str.contains('costiproduzione')][0][idx])\n",
        "ax.tick_params(axis='x', rotation=45)\n",
        "ax.set_xticklabels(['Oneri diversi','Per materie prime/sussidiarie/ecc.','Per servizi']);\n",
        "ax.set(xlabel='', ylabel='');"
      ],
      "metadata": {
        "colab": {
          "base_uri": "https://localhost:8080/",
          "height": 383
        },
        "id": "2Z8bVLxf-NZk",
        "outputId": "0d6c4a68-ce80-4462-974c-7cfdc75225be"
      },
      "execution_count": null,
      "outputs": [
        {
          "output_type": "display_data",
          "data": {
            "text/plain": [
              "<Figure size 432x288 with 1 Axes>"
            ],
            "image/png": "[encoded data removed]"
          },
          "metadata": {
            "needs_background": "light"
          }
        }
      ]
    },
    {
      "cell_type": "markdown",
      "source": [
        "Dopo una prima analisi del bilancio 2021, passiamo alle transazioni 2022 per vedere se l'azienda mostra segni di miglioramento."
      ],
      "metadata": {
        "id": "aBiWJ7ffAipP"
      }
    },
    {
      "cell_type": "markdown",
      "source": [
        "## Analisi transazioni 2022"
      ],
      "metadata": {
        "id": "nXscVtIspUde"
      }
    },
    {
      "cell_type": "code",
      "source": [
        "tra = pd.read_csv(\"Transazioni_Azienda ABC - Foglio1.csv\")"
      ],
      "metadata": {
        "id": "9qqMuni9ApNE"
      },
      "execution_count": null,
      "outputs": []
    },
    {
      "cell_type": "code",
      "source": [
        "tra.head()"
      ],
      "metadata": {
        "colab": {
          "base_uri": "https://localhost:8080/",
          "height": 206
        },
        "id": "9BpxVH8GA9iL",
        "outputId": "6871d12c-4b73-480c-a575-ecf7be897c18"
      },
      "execution_count": null,
      "outputs": [
        {
          "output_type": "execute_result",
          "data": {
            "text/plain": [
              "        data                categoria       amount\n",
              "0  04/01/2022         INCASSO FATTURA   € 5.000,00\n",
              "1  13/01/2022         INCASSO FATTURA   € 4.800,00\n",
              "2  15/01/2022                STIPENDI  -€ 6.000,00\n",
              "3  15/01/2022  RIMBORSO FINANZIAMENTO  -€ 1.200,00\n",
              "4  22/01/2022         INCASSO FATTURA   € 5.400,00"
            ],
            "text/html": [
              "\n",
              "  <div id=\"df-218bbcb2-76cf-49ba-957b-f2a69b13052e\">\n",
              "    <div class=\"colab-df-container\">\n",
              "      <div>\n",
              "<style scoped>\n",
              "    .dataframe tbody tr th:only-of-type {\n",
              "        vertical-align: middle;\n",
              "    }\n",
              "\n",
              "    .dataframe tbody tr th {\n",
              "        vertical-align: top;\n",
              "    }\n",
              "\n",
              "    .dataframe thead th {\n",
              "        text-align: right;\n",
              "    }\n",
              "</style>\n",
              "<table border=\"1\" class=\"dataframe\">\n",
              "  <thead>\n",
              "    <tr style=\"text-align: right;\">\n",
              "      <th></th>\n",
              "      <th>data</th>\n",
              "      <th>categoria</th>\n",
              "      <th>amount</th>\n",
              "    </tr>\n",
              "  </thead>\n",
              "  <tbody>\n",
              "    <tr>\n",
              "      <th>0</th>\n",
              "      <td>04/01/2022</td>\n",
              "      <td>INCASSO FATTURA</td>\n",
              "      <td>€ 5.000,00</td>\n",
              "    </tr>\n",
              "    <tr>\n",
              "      <th>1</th>\n",
              "      <td>13/01/2022</td>\n",
              "      <td>INCASSO FATTURA</td>\n",
              "      <td>€ 4.800,00</td>\n",
              "    </tr>\n",
              "    <tr>\n",
              "      <th>2</th>\n",
              "      <td>15/01/2022</td>\n",
              "      <td>STIPENDI</td>\n",
              "      <td>-€ 6.000,00</td>\n",
              "    </tr>\n",
              "    <tr>\n",
              "      <th>3</th>\n",
              "      <td>15/01/2022</td>\n",
              "      <td>RIMBORSO FINANZIAMENTO</td>\n",
              "      <td>-€ 1.200,00</td>\n",
              "    </tr>\n",
              "    <tr>\n",
              "      <th>4</th>\n",
              "      <td>22/01/2022</td>\n",
              "      <td>INCASSO FATTURA</td>\n",
              "      <td>€ 5.400,00</td>\n",
              "    </tr>\n",
              "  </tbody>\n",
              "</table>\n",
              "</div>\n",
              "      <button class=\"colab-df-convert\" onclick=\"convertToInteractive('df-218bbcb2-76cf-49ba-957b-f2a69b13052e')\"\n",
              "              title=\"Convert this dataframe to an interactive table.\"\n",
              "              style=\"display:none;\">\n",
              "        \n",
              "  <svg xmlns=\"http://www.w3.org/2000/svg\" height=\"24px\"viewBox=\"0 0 24 24\"\n",
              "       width=\"24px\">\n",
              "    <path d=\"M0 0h24v24H0V0z\" fill=\"none\"/>\n",
              "    <path d=\"M18.56 5.44l.94 2.06.94-2.06 2.06-.94-2.06-.94-.94-2.06-.94 2.06-2.06.94zm-11 1L8.5 8.5l.94-2.06 2.06-.94-2.06-.94L8.5 2.5l-.94 2.06-2.06.94zm10 10l.94 2.06.94-2.06 2.06-.94-2.06-.94-.94-2.06-.94 2.06-2.06.94z\"/><path d=\"M17.41 7.96l-1.37-1.37c-.4-.4-.92-.59-1.43-.59-.52 0-1.04.2-1.43.59L10.3 9.45l-7.72 7.72c-.78.78-.78 2.05 0 2.83L4 21.41c.39.39.9.59 1.41.59.51 0 1.02-.2 1.41-.59l7.78-7.78 2.81-2.81c.8-.78.8-2.07 0-2.86zM5.41 20L4 18.59l7.72-7.72 1.47 1.35L5.41 20z\"/>\n",
              "  </svg>\n",
              "      </button>\n",
              "      \n",
              "  <style>\n",
              "    .colab-df-container {\n",
              "      display:flex;\n",
              "      flex-wrap:wrap;\n",
              "      gap: 12px;\n",
              "    }\n",
              "\n",
              "    .colab-df-convert {\n",
              "      background-color: #E8F0FE;\n",
              "      border: none;\n",
              "      border-radius: 50%;\n",
              "      cursor: pointer;\n",
              "      display: none;\n",
              "      fill: #1967D2;\n",
              "      height: 32px;\n",
              "      padding: 0 0 0 0;\n",
              "      width: 32px;\n",
              "    }\n",
              "\n",
              "    .colab-df-convert:hover {\n",
              "      background-color: #E2EBFA;\n",
              "      box-shadow: 0px 1px 2px rgba(60, 64, 67, 0.3), 0px 1px 3px 1px rgba(60, 64, 67, 0.15);\n",
              "      fill: #174EA6;\n",
              "    }\n",
              "\n",
              "    [theme=dark] .colab-df-convert {\n",
              "      background-color: #3B4455;\n",
              "      fill: #D2E3FC;\n",
              "    }\n",
              "\n",
              "    [theme=dark] .colab-df-convert:hover {\n",
              "      background-color: #434B5C;\n",
              "      box-shadow: 0px 1px 3px 1px rgba(0, 0, 0, 0.15);\n",
              "      filter: drop-shadow(0px 1px 2px rgba(0, 0, 0, 0.3));\n",
              "      fill: #FFFFFF;\n",
              "    }\n",
              "  </style>\n",
              "\n",
              "      <script>\n",
              "        const buttonEl =\n",
              "          document.querySelector('#df-218bbcb2-76cf-49ba-957b-f2a69b13052e button.colab-df-convert');\n",
              "        buttonEl.style.display =\n",
              "          google.colab.kernel.accessAllowed ? 'block' : 'none';\n",
              "\n",
              "        async function convertToInteractive(key) {\n",
              "          const element = document.querySelector('#df-218bbcb2-76cf-49ba-957b-f2a69b13052e');\n",
              "          const dataTable =\n",
              "            await google.colab.kernel.invokeFunction('convertToInteractive',\n",
              "                                                     [key], {});\n",
              "          if (!dataTable) return;\n",
              "\n",
              "          const docLinkHtml = 'Like what you see? Visit the ' +\n",
              "            '<a target=\"_blank\" href=https://colab.research.google.com/notebooks/data_table.ipynb>data table notebook</a>'\n",
              "            + ' to learn more about interactive tables.';\n",
              "          element.innerHTML = '';\n",
              "          dataTable['output_type'] = 'display_data';\n",
              "          await google.colab.output.renderOutput(dataTable, element);\n",
              "          const docLink = document.createElement('div');\n",
              "          docLink.innerHTML = docLinkHtml;\n",
              "          element.appendChild(docLink);\n",
              "        }\n",
              "      </script>\n",
              "    </div>\n",
              "  </div>\n",
              "  "
            ]
          },
          "metadata": {},
          "execution_count": 31
        }
      ]
    },
    {
      "cell_type": "markdown",
      "source": [
        "In questo documento sono riportate diverse operazioni relative all'anno 2022.\n",
        "\n",
        "Vediamo innanzitutto di che tipo di operazioni si tratta:"
      ],
      "metadata": {
        "id": "LzaXhD3DA-jM"
      }
    },
    {
      "cell_type": "code",
      "source": [
        "tra['categoria'].unique()"
      ],
      "metadata": {
        "colab": {
          "base_uri": "https://localhost:8080/"
        },
        "id": "_8h1x2M-BJsN",
        "outputId": "2f84b10a-bd34-4eb5-ee2e-c2f5a47b3b9e"
      },
      "execution_count": null,
      "outputs": [
        {
          "output_type": "execute_result",
          "data": {
            "text/plain": [
              "array(['INCASSO FATTURA', 'STIPENDI', 'RIMBORSO FINANZIAMENTO', 'UTENZE',\n",
              "       'PAGAMENTO FORNITORI', 'EROGAZIONE FINANZIAMENTO',\n",
              "       'PAGAMENTO FATTURA'], dtype=object)"
            ]
          },
          "metadata": {},
          "execution_count": 32
        }
      ]
    },
    {
      "cell_type": "markdown",
      "source": [
        "Prima di fare qualsiasi operazione, abbiamo bisogno di trasformare le stringhe relative ai valori di ogni operazioni in floating numbers:"
      ],
      "metadata": {
        "id": "WcexmXigBSRL"
      }
    },
    {
      "cell_type": "code",
      "source": [
        "amount = tra.iloc[:,2].tolist()\n",
        "float_amount = [float(s.replace('.', '').replace('€', '').replace(',','.').replace('- ','-')) for s in amount]\n",
        "tra['amount'] = float_amount"
      ],
      "metadata": {
        "id": "P1k7ZWnaBY9h"
      },
      "execution_count": null,
      "outputs": []
    },
    {
      "cell_type": "code",
      "source": [
        "tra.head()"
      ],
      "metadata": {
        "colab": {
          "base_uri": "https://localhost:8080/",
          "height": 206
        },
        "id": "feVgGU47ByD8",
        "outputId": "2c0f73dc-2ec6-423b-d142-18f8a019cb90"
      },
      "execution_count": null,
      "outputs": [
        {
          "output_type": "execute_result",
          "data": {
            "text/plain": [
              "        data                categoria  amount\n",
              "0  04/01/2022         INCASSO FATTURA  5000.0\n",
              "1  13/01/2022         INCASSO FATTURA  4800.0\n",
              "2  15/01/2022                STIPENDI -6000.0\n",
              "3  15/01/2022  RIMBORSO FINANZIAMENTO -1200.0\n",
              "4  22/01/2022         INCASSO FATTURA  5400.0"
            ],
            "text/html": [
              "\n",
              "  <div id=\"df-681e4dc0-0c2d-4e70-b74a-f66d37161304\">\n",
              "    <div class=\"colab-df-container\">\n",
              "      <div>\n",
              "<style scoped>\n",
              "    .dataframe tbody tr th:only-of-type {\n",
              "        vertical-align: middle;\n",
              "    }\n",
              "\n",
              "    .dataframe tbody tr th {\n",
              "        vertical-align: top;\n",
              "    }\n",
              "\n",
              "    .dataframe thead th {\n",
              "        text-align: right;\n",
              "    }\n",
              "</style>\n",
              "<table border=\"1\" class=\"dataframe\">\n",
              "  <thead>\n",
              "    <tr style=\"text-align: right;\">\n",
              "      <th></th>\n",
              "      <th>data</th>\n",
              "      <th>categoria</th>\n",
              "      <th>amount</th>\n",
              "    </tr>\n",
              "  </thead>\n",
              "  <tbody>\n",
              "    <tr>\n",
              "      <th>0</th>\n",
              "      <td>04/01/2022</td>\n",
              "      <td>INCASSO FATTURA</td>\n",
              "      <td>5000.0</td>\n",
              "    </tr>\n",
              "    <tr>\n",
              "      <th>1</th>\n",
              "      <td>13/01/2022</td>\n",
              "      <td>INCASSO FATTURA</td>\n",
              "      <td>4800.0</td>\n",
              "    </tr>\n",
              "    <tr>\n",
              "      <th>2</th>\n",
              "      <td>15/01/2022</td>\n",
              "      <td>STIPENDI</td>\n",
              "      <td>-6000.0</td>\n",
              "    </tr>\n",
              "    <tr>\n",
              "      <th>3</th>\n",
              "      <td>15/01/2022</td>\n",
              "      <td>RIMBORSO FINANZIAMENTO</td>\n",
              "      <td>-1200.0</td>\n",
              "    </tr>\n",
              "    <tr>\n",
              "      <th>4</th>\n",
              "      <td>22/01/2022</td>\n",
              "      <td>INCASSO FATTURA</td>\n",
              "      <td>5400.0</td>\n",
              "    </tr>\n",
              "  </tbody>\n",
              "</table>\n",
              "</div>\n",
              "      <button class=\"colab-df-convert\" onclick=\"convertToInteractive('df-681e4dc0-0c2d-4e70-b74a-f66d37161304')\"\n",
              "              title=\"Convert this dataframe to an interactive table.\"\n",
              "              style=\"display:none;\">\n",
              "        \n",
              "  <svg xmlns=\"http://www.w3.org/2000/svg\" height=\"24px\"viewBox=\"0 0 24 24\"\n",
              "       width=\"24px\">\n",
              "    <path d=\"M0 0h24v24H0V0z\" fill=\"none\"/>\n",
              "    <path d=\"M18.56 5.44l.94 2.06.94-2.06 2.06-.94-2.06-.94-.94-2.06-.94 2.06-2.06.94zm-11 1L8.5 8.5l.94-2.06 2.06-.94-2.06-.94L8.5 2.5l-.94 2.06-2.06.94zm10 10l.94 2.06.94-2.06 2.06-.94-2.06-.94-.94-2.06-.94 2.06-2.06.94z\"/><path d=\"M17.41 7.96l-1.37-1.37c-.4-.4-.92-.59-1.43-.59-.52 0-1.04.2-1.43.59L10.3 9.45l-7.72 7.72c-.78.78-.78 2.05 0 2.83L4 21.41c.39.39.9.59 1.41.59.51 0 1.02-.2 1.41-.59l7.78-7.78 2.81-2.81c.8-.78.8-2.07 0-2.86zM5.41 20L4 18.59l7.72-7.72 1.47 1.35L5.41 20z\"/>\n",
              "  </svg>\n",
              "      </button>\n",
              "      \n",
              "  <style>\n",
              "    .colab-df-container {\n",
              "      display:flex;\n",
              "      flex-wrap:wrap;\n",
              "      gap: 12px;\n",
              "    }\n",
              "\n",
              "    .colab-df-convert {\n",
              "      background-color: #E8F0FE;\n",
              "      border: none;\n",
              "      border-radius: 50%;\n",
              "      cursor: pointer;\n",
              "      display: none;\n",
              "      fill: #1967D2;\n",
              "      height: 32px;\n",
              "      padding: 0 0 0 0;\n",
              "      width: 32px;\n",
              "    }\n",
              "\n",
              "    .colab-df-convert:hover {\n",
              "      background-color: #E2EBFA;\n",
              "      box-shadow: 0px 1px 2px rgba(60, 64, 67, 0.3), 0px 1px 3px 1px rgba(60, 64, 67, 0.15);\n",
              "      fill: #174EA6;\n",
              "    }\n",
              "\n",
              "    [theme=dark] .colab-df-convert {\n",
              "      background-color: #3B4455;\n",
              "      fill: #D2E3FC;\n",
              "    }\n",
              "\n",
              "    [theme=dark] .colab-df-convert:hover {\n",
              "      background-color: #434B5C;\n",
              "      box-shadow: 0px 1px 3px 1px rgba(0, 0, 0, 0.15);\n",
              "      filter: drop-shadow(0px 1px 2px rgba(0, 0, 0, 0.3));\n",
              "      fill: #FFFFFF;\n",
              "    }\n",
              "  </style>\n",
              "\n",
              "      <script>\n",
              "        const buttonEl =\n",
              "          document.querySelector('#df-681e4dc0-0c2d-4e70-b74a-f66d37161304 button.colab-df-convert');\n",
              "        buttonEl.style.display =\n",
              "          google.colab.kernel.accessAllowed ? 'block' : 'none';\n",
              "\n",
              "        async function convertToInteractive(key) {\n",
              "          const element = document.querySelector('#df-681e4dc0-0c2d-4e70-b74a-f66d37161304');\n",
              "          const dataTable =\n",
              "            await google.colab.kernel.invokeFunction('convertToInteractive',\n",
              "                                                     [key], {});\n",
              "          if (!dataTable) return;\n",
              "\n",
              "          const docLinkHtml = 'Like what you see? Visit the ' +\n",
              "            '<a target=\"_blank\" href=https://colab.research.google.com/notebooks/data_table.ipynb>data table notebook</a>'\n",
              "            + ' to learn more about interactive tables.';\n",
              "          element.innerHTML = '';\n",
              "          dataTable['output_type'] = 'display_data';\n",
              "          await google.colab.output.renderOutput(dataTable, element);\n",
              "          const docLink = document.createElement('div');\n",
              "          docLink.innerHTML = docLinkHtml;\n",
              "          element.appendChild(docLink);\n",
              "        }\n",
              "      </script>\n",
              "    </div>\n",
              "  </div>\n",
              "  "
            ]
          },
          "metadata": {},
          "execution_count": 34
        }
      ]
    },
    {
      "cell_type": "markdown",
      "source": [
        "Innanzitutto andiamo a vedere il cashflow generale, cioè il risultato finale di **TUTTE** le operazioni del 2022:"
      ],
      "metadata": {
        "id": "YThoWxrgCuss"
      }
    },
    {
      "cell_type": "code",
      "source": [
        "sum(tra['amount'])"
      ],
      "metadata": {
        "colab": {
          "base_uri": "https://localhost:8080/"
        },
        "id": "iMwRBG83ConE",
        "outputId": "cc1216d9-98f6-41a2-f572-b822e7385511"
      },
      "execution_count": null,
      "outputs": [
        {
          "output_type": "execute_result",
          "data": {
            "text/plain": [
              "7525.14000000001"
            ]
          },
          "metadata": {},
          "execution_count": 35
        }
      ]
    },
    {
      "cell_type": "markdown",
      "source": [
        "Si può già notare che non vi è una perdita, anche se l'importo è relativamente basso.\n",
        "Questo importo però non tiene conto di alcuni fattori, è necessario quindi analizzare più nel dettaglio le operazioni."
      ],
      "metadata": {
        "id": "5mYe0gltC3JL"
      }
    },
    {
      "cell_type": "markdown",
      "source": [
        "### Incassi:\n",
        "Partiamo da questa categoria, ricordandoci che a fine 2021 c'erano dei crediti esigibili entro il 2022.\n"
      ],
      "metadata": {
        "id": "UMDTX6fKDIwj"
      }
    },
    {
      "cell_type": "code",
      "source": [
        "inca = tra.loc[tra['categoria'] == 'INCASSO FATTURA']\n",
        "sum(inca['amount'])"
      ],
      "metadata": {
        "colab": {
          "base_uri": "https://localhost:8080/"
        },
        "id": "a4C0oOfkDbNq",
        "outputId": "d2f56f00-cc3f-4891-a069-0e63d521a277"
      },
      "execution_count": null,
      "outputs": [
        {
          "output_type": "execute_result",
          "data": {
            "text/plain": [
              "363533.46"
            ]
          },
          "metadata": {},
          "execution_count": 36
        }
      ]
    },
    {
      "cell_type": "markdown",
      "source": [
        "Il totale incassato nel 2022 è 363533.46, ma di questi i crediti esigibili al 31/12/21 erano 87895. Ciò significa che il 24% circa degli incassi è relativo ad operazioni effettuate l'anno precedente.\n",
        "\n",
        "La differenza tra questi importi, pari a 275638.46, equivale ai ricavi relativi a operazioni dell'anno corrente. "
      ],
      "metadata": {
        "id": "orNFp1cdDot8"
      }
    },
    {
      "cell_type": "markdown",
      "source": [
        "### Pagamenti"
      ],
      "metadata": {
        "id": "Cq1tCwdDEX0A"
      }
    },
    {
      "cell_type": "markdown",
      "source": [
        "Il primo punto che andremo a guardare concerne il pagamento di fornitori e di fatture:"
      ],
      "metadata": {
        "id": "itO-t5APE_kj"
      }
    },
    {
      "cell_type": "code",
      "source": [
        "pag_for = tra.loc[tra['categoria'] == 'PAGAMENTO FORNITORI']\n",
        "sum(pag_for['amount'])"
      ],
      "metadata": {
        "id": "NNfxnNKkTPXB",
        "colab": {
          "base_uri": "https://localhost:8080/"
        },
        "outputId": "89a1eb2a-7eaa-462b-9eac-d83e6501d231"
      },
      "execution_count": null,
      "outputs": [
        {
          "output_type": "execute_result",
          "data": {
            "text/plain": [
              "-253042.01"
            ]
          },
          "metadata": {},
          "execution_count": 37
        }
      ]
    },
    {
      "cell_type": "code",
      "source": [
        "pag_fat = tra.loc[tra['categoria'] == 'PAGAMENTO FATTURA']\n",
        "sum(pag_fat['amount'])"
      ],
      "metadata": {
        "colab": {
          "base_uri": "https://localhost:8080/"
        },
        "id": "UpUTZ_qrT8sR",
        "outputId": "abfe9428-de22-41ce-81ca-b29a0cb245ba"
      },
      "execution_count": null,
      "outputs": [
        {
          "output_type": "execute_result",
          "data": {
            "text/plain": [
              "-40000.0"
            ]
          },
          "metadata": {},
          "execution_count": 38
        }
      ]
    },
    {
      "cell_type": "code",
      "source": [
        "sum(pag_for['amount'])+sum(pag_fat['amount'])"
      ],
      "metadata": {
        "colab": {
          "base_uri": "https://localhost:8080/"
        },
        "id": "H8CUj4EYFRaJ",
        "outputId": "0a601907-27d4-4532-a08b-422dd141c3ca"
      },
      "execution_count": null,
      "outputs": [
        {
          "output_type": "execute_result",
          "data": {
            "text/plain": [
              "-293042.01"
            ]
          },
          "metadata": {},
          "execution_count": 39
        }
      ]
    },
    {
      "cell_type": "markdown",
      "source": [
        "In totale vi sono pagamenti ai fornitori per 253042.01 e pagamenti di fatture per 40000.\n",
        "\n",
        "Sommandoli si ottiene 293042.01\n",
        "\n",
        "Questo importo però, con lo stesso ragionamento di prima, non tiene conto dei debiti contratti nell'esercizio precedente riscuotibili entro il 2022, che sono 139241. Inoltre, il fatto che il totale debiti sia costituito da questi, fa capire che l'azienda li ha coperti tutti nel 2022.\n",
        "\n",
        "Tra questi inoltre va tenuto conto anche delle voci di **rimborso finanziamento**:"
      ],
      "metadata": {
        "id": "6oT_o6h8GtY5"
      }
    },
    {
      "cell_type": "code",
      "source": [
        "tra[tra['categoria'].str.contains('FINANZIAMENTO')]"
      ],
      "metadata": {
        "colab": {
          "base_uri": "https://localhost:8080/",
          "height": 457
        },
        "id": "xLeTJFjaHwmV",
        "outputId": "e0d38959-ee1c-4c2a-d08c-ce39f178760b"
      },
      "execution_count": null,
      "outputs": [
        {
          "output_type": "execute_result",
          "data": {
            "text/plain": [
              "          data                  categoria   amount\n",
              "3    15/01/2022    RIMBORSO FINANZIAMENTO  -1200.0\n",
              "11   15/02/2022    RIMBORSO FINANZIAMENTO  -1200.0\n",
              "20   15/03/2022    RIMBORSO FINANZIAMENTO  -1200.0\n",
              "31   15/04/2022    RIMBORSO FINANZIAMENTO  -1200.0\n",
              "40   15/05/2022    RIMBORSO FINANZIAMENTO  -1200.0\n",
              "46   30/05/2022  EROGAZIONE FINANZIAMENTO  10000.0\n",
              "52   15/06/2022    RIMBORSO FINANZIAMENTO  -1700.0\n",
              "61   15/07/2022    RIMBORSO FINANZIAMENTO  -1700.0\n",
              "70   15/08/2022    RIMBORSO FINANZIAMENTO  -1700.0\n",
              "81   15/09/2022    RIMBORSO FINANZIAMENTO  -1700.0\n",
              "90   15/10/2022    RIMBORSO FINANZIAMENTO  -1700.0\n",
              "101  15/11/2022    RIMBORSO FINANZIAMENTO  -1700.0\n",
              "110  15/12/2022    RIMBORSO FINANZIAMENTO  -1700.0"
            ],
            "text/html": [
              "\n",
              "  <div id=\"df-f2b84358-5709-4e79-a8d4-7773176e3c3a\">\n",
              "    <div class=\"colab-df-container\">\n",
              "      <div>\n",
              "<style scoped>\n",
              "    .dataframe tbody tr th:only-of-type {\n",
              "        vertical-align: middle;\n",
              "    }\n",
              "\n",
              "    .dataframe tbody tr th {\n",
              "        vertical-align: top;\n",
              "    }\n",
              "\n",
              "    .dataframe thead th {\n",
              "        text-align: right;\n",
              "    }\n",
              "</style>\n",
              "<table border=\"1\" class=\"dataframe\">\n",
              "  <thead>\n",
              "    <tr style=\"text-align: right;\">\n",
              "      <th></th>\n",
              "      <th>data</th>\n",
              "      <th>categoria</th>\n",
              "      <th>amount</th>\n",
              "    </tr>\n",
              "  </thead>\n",
              "  <tbody>\n",
              "    <tr>\n",
              "      <th>3</th>\n",
              "      <td>15/01/2022</td>\n",
              "      <td>RIMBORSO FINANZIAMENTO</td>\n",
              "      <td>-1200.0</td>\n",
              "    </tr>\n",
              "    <tr>\n",
              "      <th>11</th>\n",
              "      <td>15/02/2022</td>\n",
              "      <td>RIMBORSO FINANZIAMENTO</td>\n",
              "      <td>-1200.0</td>\n",
              "    </tr>\n",
              "    <tr>\n",
              "      <th>20</th>\n",
              "      <td>15/03/2022</td>\n",
              "      <td>RIMBORSO FINANZIAMENTO</td>\n",
              "      <td>-1200.0</td>\n",
              "    </tr>\n",
              "    <tr>\n",
              "      <th>31</th>\n",
              "      <td>15/04/2022</td>\n",
              "      <td>RIMBORSO FINANZIAMENTO</td>\n",
              "      <td>-1200.0</td>\n",
              "    </tr>\n",
              "    <tr>\n",
              "      <th>40</th>\n",
              "      <td>15/05/2022</td>\n",
              "      <td>RIMBORSO FINANZIAMENTO</td>\n",
              "      <td>-1200.0</td>\n",
              "    </tr>\n",
              "    <tr>\n",
              "      <th>46</th>\n",
              "      <td>30/05/2022</td>\n",
              "      <td>EROGAZIONE FINANZIAMENTO</td>\n",
              "      <td>10000.0</td>\n",
              "    </tr>\n",
              "    <tr>\n",
              "      <th>52</th>\n",
              "      <td>15/06/2022</td>\n",
              "      <td>RIMBORSO FINANZIAMENTO</td>\n",
              "      <td>-1700.0</td>\n",
              "    </tr>\n",
              "    <tr>\n",
              "      <th>61</th>\n",
              "      <td>15/07/2022</td>\n",
              "      <td>RIMBORSO FINANZIAMENTO</td>\n",
              "      <td>-1700.0</td>\n",
              "    </tr>\n",
              "    <tr>\n",
              "      <th>70</th>\n",
              "      <td>15/08/2022</td>\n",
              "      <td>RIMBORSO FINANZIAMENTO</td>\n",
              "      <td>-1700.0</td>\n",
              "    </tr>\n",
              "    <tr>\n",
              "      <th>81</th>\n",
              "      <td>15/09/2022</td>\n",
              "      <td>RIMBORSO FINANZIAMENTO</td>\n",
              "      <td>-1700.0</td>\n",
              "    </tr>\n",
              "    <tr>\n",
              "      <th>90</th>\n",
              "      <td>15/10/2022</td>\n",
              "      <td>RIMBORSO FINANZIAMENTO</td>\n",
              "      <td>-1700.0</td>\n",
              "    </tr>\n",
              "    <tr>\n",
              "      <th>101</th>\n",
              "      <td>15/11/2022</td>\n",
              "      <td>RIMBORSO FINANZIAMENTO</td>\n",
              "      <td>-1700.0</td>\n",
              "    </tr>\n",
              "    <tr>\n",
              "      <th>110</th>\n",
              "      <td>15/12/2022</td>\n",
              "      <td>RIMBORSO FINANZIAMENTO</td>\n",
              "      <td>-1700.0</td>\n",
              "    </tr>\n",
              "  </tbody>\n",
              "</table>\n",
              "</div>\n",
              "      <button class=\"colab-df-convert\" onclick=\"convertToInteractive('df-f2b84358-5709-4e79-a8d4-7773176e3c3a')\"\n",
              "              title=\"Convert this dataframe to an interactive table.\"\n",
              "              style=\"display:none;\">\n",
              "        \n",
              "  <svg xmlns=\"http://www.w3.org/2000/svg\" height=\"24px\"viewBox=\"0 0 24 24\"\n",
              "       width=\"24px\">\n",
              "    <path d=\"M0 0h24v24H0V0z\" fill=\"none\"/>\n",
              "    <path d=\"M18.56 5.44l.94 2.06.94-2.06 2.06-.94-2.06-.94-.94-2.06-.94 2.06-2.06.94zm-11 1L8.5 8.5l.94-2.06 2.06-.94-2.06-.94L8.5 2.5l-.94 2.06-2.06.94zm10 10l.94 2.06.94-2.06 2.06-.94-2.06-.94-.94-2.06-.94 2.06-2.06.94z\"/><path d=\"M17.41 7.96l-1.37-1.37c-.4-.4-.92-.59-1.43-.59-.52 0-1.04.2-1.43.59L10.3 9.45l-7.72 7.72c-.78.78-.78 2.05 0 2.83L4 21.41c.39.39.9.59 1.41.59.51 0 1.02-.2 1.41-.59l7.78-7.78 2.81-2.81c.8-.78.8-2.07 0-2.86zM5.41 20L4 18.59l7.72-7.72 1.47 1.35L5.41 20z\"/>\n",
              "  </svg>\n",
              "      </button>\n",
              "      \n",
              "  <style>\n",
              "    .colab-df-container {\n",
              "      display:flex;\n",
              "      flex-wrap:wrap;\n",
              "      gap: 12px;\n",
              "    }\n",
              "\n",
              "    .colab-df-convert {\n",
              "      background-color: #E8F0FE;\n",
              "      border: none;\n",
              "      border-radius: 50%;\n",
              "      cursor: pointer;\n",
              "      display: none;\n",
              "      fill: #1967D2;\n",
              "      height: 32px;\n",
              "      padding: 0 0 0 0;\n",
              "      width: 32px;\n",
              "    }\n",
              "\n",
              "    .colab-df-convert:hover {\n",
              "      background-color: #E2EBFA;\n",
              "      box-shadow: 0px 1px 2px rgba(60, 64, 67, 0.3), 0px 1px 3px 1px rgba(60, 64, 67, 0.15);\n",
              "      fill: #174EA6;\n",
              "    }\n",
              "\n",
              "    [theme=dark] .colab-df-convert {\n",
              "      background-color: #3B4455;\n",
              "      fill: #D2E3FC;\n",
              "    }\n",
              "\n",
              "    [theme=dark] .colab-df-convert:hover {\n",
              "      background-color: #434B5C;\n",
              "      box-shadow: 0px 1px 3px 1px rgba(0, 0, 0, 0.15);\n",
              "      filter: drop-shadow(0px 1px 2px rgba(0, 0, 0, 0.3));\n",
              "      fill: #FFFFFF;\n",
              "    }\n",
              "  </style>\n",
              "\n",
              "      <script>\n",
              "        const buttonEl =\n",
              "          document.querySelector('#df-f2b84358-5709-4e79-a8d4-7773176e3c3a button.colab-df-convert');\n",
              "        buttonEl.style.display =\n",
              "          google.colab.kernel.accessAllowed ? 'block' : 'none';\n",
              "\n",
              "        async function convertToInteractive(key) {\n",
              "          const element = document.querySelector('#df-f2b84358-5709-4e79-a8d4-7773176e3c3a');\n",
              "          const dataTable =\n",
              "            await google.colab.kernel.invokeFunction('convertToInteractive',\n",
              "                                                     [key], {});\n",
              "          if (!dataTable) return;\n",
              "\n",
              "          const docLinkHtml = 'Like what you see? Visit the ' +\n",
              "            '<a target=\"_blank\" href=https://colab.research.google.com/notebooks/data_table.ipynb>data table notebook</a>'\n",
              "            + ' to learn more about interactive tables.';\n",
              "          element.innerHTML = '';\n",
              "          dataTable['output_type'] = 'display_data';\n",
              "          await google.colab.output.renderOutput(dataTable, element);\n",
              "          const docLink = document.createElement('div');\n",
              "          docLink.innerHTML = docLinkHtml;\n",
              "          element.appendChild(docLink);\n",
              "        }\n",
              "      </script>\n",
              "    </div>\n",
              "  </div>\n",
              "  "
            ]
          },
          "metadata": {},
          "execution_count": 40
        }
      ]
    },
    {
      "cell_type": "markdown",
      "source": [
        "Vi è infatti un finanziamento relativo al 2021, contato tra i debiti esigibili nel 2022, che è rimborsato al 15/05, per un totale di \n",
        "\n",
        "1200 x 5 = 6000.\n",
        "\n",
        "Da maggio vi è un finanziamento di 10000 che viene ripagato entro l'anno per un totale di 11900."
      ],
      "metadata": {
        "id": "nFyONWrAIkGC"
      }
    },
    {
      "cell_type": "markdown",
      "source": [
        "Per concludere questa parte, quindi:\n",
        "\n",
        "Considerando il totale dei pagamenti nel 2022 si ha:\n",
        "\n",
        "* 253042.01 (pagamenti ai fornitori)\n",
        "* 17900 (totale rimborso finanziamenti) - di cui 6000 per il 2021\n",
        "* 40000 (pagamenti fatture)\n",
        "\n",
        "Per un totale di: 310942\n",
        "\n",
        "Di questi, 139241 sono relativi ad operazioni del 2021.\n",
        "\n",
        "Scorporandoli, si ottiene come risultato:\n",
        "\n",
        "310942 - 139241 = 171701"
      ],
      "metadata": {
        "id": "wlxeZdauJwPj"
      }
    },
    {
      "cell_type": "markdown",
      "source": [
        "Ritornando alla questione ricavi anno corrente, vediamo che l'azienda per quanto riguarda le operazioni puramente \"core business\" ottiene un risultato pari a:\n",
        "\n",
        "275638.46 - 171701 = 103937.46\n",
        "\n",
        "> Cosa indica? \n",
        "\n",
        "Questo risultato è interpretabile come \"cashflow\" riguardante solo ciò che accade all'azienda durante il 2022, che fa ovviamente ben sperare considerato che invece nel 2021 il risultato era stato **ben più negativo**.\n",
        "\n",
        "Non si può però non tener conto di due fattori: utenze e stipendi.\n",
        "\n",
        "Vediamo prima a quanto ammontano:"
      ],
      "metadata": {
        "id": "Uf5pBqiYNEwS"
      }
    },
    {
      "cell_type": "code",
      "source": [
        "ute = tra.loc[tra['categoria'] == 'UTENZE']\n",
        "sum(ute['amount'])"
      ],
      "metadata": {
        "colab": {
          "base_uri": "https://localhost:8080/"
        },
        "id": "2iBKhNCuFnxD",
        "outputId": "fc55f207-0d39-403c-f4b2-94b879f05e2c"
      },
      "execution_count": null,
      "outputs": [
        {
          "output_type": "execute_result",
          "data": {
            "text/plain": [
              "-9066.31"
            ]
          },
          "metadata": {},
          "execution_count": 41
        }
      ]
    },
    {
      "cell_type": "code",
      "source": [
        "stip = tra.loc[tra['categoria'] == 'STIPENDI']\n",
        "sum(stip['amount'])"
      ],
      "metadata": {
        "colab": {
          "base_uri": "https://localhost:8080/"
        },
        "id": "YH6GH1c0Fve7",
        "outputId": "bf98db09-df3a-43a1-eeae-085ef9428f85"
      },
      "execution_count": null,
      "outputs": [
        {
          "output_type": "execute_result",
          "data": {
            "text/plain": [
              "-46000.0"
            ]
          },
          "metadata": {},
          "execution_count": 42
        }
      ]
    },
    {
      "cell_type": "markdown",
      "source": [
        "103937.46 - 9066.31 - 46000 = 48871.15\n",
        "\n",
        "Questo è un risultato più complessivo, in quanto le utenze e gli stipendi del 2022 pur essendo costi \"indiretti\" nella produzione sono sostenuti per ottenere i risultati durante l'esercizio.\n",
        "\n",
        "Da qui vediamo che comunque l'azienda recupera dall'anno precedente.\n",
        "\n",
        "Vi è un ultimo elemento da considerare: il finanziamento da 10000 ricevuto a maggio:"
      ],
      "metadata": {
        "id": "w9dPTAhMtSkr"
      }
    },
    {
      "cell_type": "markdown",
      "source": [
        "### Finanziamento"
      ],
      "metadata": {
        "id": "FtszbffWGA1Z"
      }
    },
    {
      "cell_type": "code",
      "source": [
        "erog_f = tra.loc[tra['categoria'] == 'EROGAZIONE FINANZIAMENTO']\n",
        "sum(erog_f['amount'])"
      ],
      "metadata": {
        "colab": {
          "base_uri": "https://localhost:8080/"
        },
        "id": "Z3JbiEooGJUb",
        "outputId": "acc599cf-580a-47f8-b869-af4ef5a44261"
      },
      "execution_count": null,
      "outputs": [
        {
          "output_type": "execute_result",
          "data": {
            "text/plain": [
              "10000.0"
            ]
          },
          "metadata": {},
          "execution_count": 43
        }
      ]
    },
    {
      "cell_type": "markdown",
      "source": [
        "Per questo finanziamento, come mostrato precedentemente, si pagherà un rimborso totale di 11900, il che significa che l'azienda **spende 1900 euro** per ottenere quei 10000."
      ],
      "metadata": {
        "id": "p2W1DFc5t_gT"
      }
    },
    {
      "cell_type": "markdown",
      "source": [
        "## Conclusione"
      ],
      "metadata": {
        "id": "3VZKgORjpWpD"
      }
    },
    {
      "cell_type": "markdown",
      "source": [
        "Prevedendo comunque un miglioramento per il 2023, e considerando la particolarità dell'anno 2021 (ad esempio per il covid) concluso in perdita, ci si potrebbe anche sbilanciare sull'importo da erogare.\n",
        "\n",
        "Ma, per tenersi entro un ragionevole **margine di rischio** e considerato il risultato specifico del 2022 e sopratutto anche le disponibilità liquide che l'azienda riporta al 31/12/2021 (pari a 54891), ritengo sia corretto erogare come **importo massimo** alla ABC Company €50.000, rientrando nel **pacchetto Classic** offerto da Liqi - monitorando i risultati e valutando una eventuale estensione dell'importo già considerando il cashflow dei primi mesi del 2023, se necessario."
      ],
      "metadata": {
        "id": "9UKZ7omkuL6U"
      }
    }
  ]
}